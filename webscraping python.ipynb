{
 "cells": [
  {
   "cell_type": "code",
   "execution_count": 1,
   "id": "43cb518c-a2c5-47a4-9c55-b1b980d637d7",
   "metadata": {},
   "outputs": [
    {
     "name": "stdout",
     "output_type": "stream",
     "text": [
      "Requirement already satisfied: requests in c:\\users\\gajender chauhan\\anaconda3\\lib\\site-packages (2.32.3)\n",
      "Requirement already satisfied: charset-normalizer<4,>=2 in c:\\users\\gajender chauhan\\anaconda3\\lib\\site-packages (from requests) (3.3.2)\n",
      "Requirement already satisfied: idna<4,>=2.5 in c:\\users\\gajender chauhan\\anaconda3\\lib\\site-packages (from requests) (3.7)\n",
      "Requirement already satisfied: urllib3<3,>=1.21.1 in c:\\users\\gajender chauhan\\anaconda3\\lib\\site-packages (from requests) (2.3.0)\n",
      "Requirement already satisfied: certifi>=2017.4.17 in c:\\users\\gajender chauhan\\anaconda3\\lib\\site-packages (from requests) (2025.4.26)\n",
      "Note: you may need to restart the kernel to use updated packages.\n"
     ]
    }
   ],
   "source": [
    "pip install requests"
   ]
  },
  {
   "cell_type": "code",
   "execution_count": 2,
   "id": "65afce6b-aab1-4072-927c-d5f661131949",
   "metadata": {},
   "outputs": [],
   "source": [
    "import requests"
   ]
  },
  {
   "cell_type": "code",
   "execution_count": 3,
   "id": "fccfb197-a1c2-4718-8f39-d8a0897b8747",
   "metadata": {},
   "outputs": [],
   "source": [
    "url = 'https://www.python.org/'"
   ]
  },
  {
   "cell_type": "code",
   "execution_count": 4,
   "id": "65eac023-ed76-450f-9660-71fdc8057a22",
   "metadata": {},
   "outputs": [],
   "source": [
    "response = requests.get(url)"
   ]
  },
  {
   "cell_type": "code",
   "execution_count": 5,
   "id": "fde40ff8-061f-4786-b51d-6eec2ece3516",
   "metadata": {},
   "outputs": [],
   "source": [
    "html = response.text"
   ]
  },
  {
   "cell_type": "code",
   "execution_count": 6,
   "id": "e3d0c573-ecf7-420f-8f7a-889da3e06145",
   "metadata": {},
   "outputs": [
    {
     "name": "stdout",
     "output_type": "stream",
     "text": [
      "Requirement already satisfied: beautifulsoup4 in c:\\users\\gajender chauhan\\anaconda3\\lib\\site-packages (4.12.3)\n",
      "Requirement already satisfied: soupsieve>1.2 in c:\\users\\gajender chauhan\\anaconda3\\lib\\site-packages (from beautifulsoup4) (2.5)\n",
      "Note: you may need to restart the kernel to use updated packages.\n"
     ]
    }
   ],
   "source": [
    "pip install beautifulsoup4"
   ]
  },
  {
   "cell_type": "code",
   "execution_count": 8,
   "id": "3f87375c-2a8e-4f02-9718-82c3ca8039ee",
   "metadata": {},
   "outputs": [],
   "source": [
    "from bs4 import BeautifulSoup"
   ]
  },
  {
   "cell_type": "code",
   "execution_count": 9,
   "id": "61b15b2b-feaa-460e-870c-ec5db01b71ba",
   "metadata": {},
   "outputs": [
    {
     "name": "stdout",
     "output_type": "stream",
     "text": [
      "latest.article in the python section:\n",
      "1,Python 3.14.0rc2 and 3.13.7 are go!\n",
      "2,Announcing the PSF Board Candidates for 2025!\n",
      "3,Announcing Python Software Foundation Fellow Members for Q2 2025! 🎉\n",
      "4,Unmasking Phantom Dependencies with Software Bill-of-Materials as Ecosystem Neutral Metadata\n",
      "5,Python 3.13.6 is now available\n"
     ]
    }
   ],
   "source": [
    "def get_latest_python_article():\n",
    "    url='https://www.python.org/'\n",
    "    response=requests.get(url)\n",
    "\n",
    "    if response.status_code==200:\n",
    "        soup=BeautifulSoup(response.text,\"html.parser\")\n",
    "        latest_articles=[]\n",
    "\n",
    "        for article in soup.select('.blog-widget li'):\n",
    "            title = article.a.text.strip()\n",
    "            latest_articles.append(title)\n",
    "        return latest_articles\n",
    "    else:\n",
    "        print(f\"failed to retrieve data.status code:{response.status_code}\")\n",
    "        return[]\n",
    "\n",
    "if __name__==\"__main__\":\n",
    "    python_articles = get_latest_python_article()\n",
    "\n",
    "    if python_articles:\n",
    "        print('latest.article in the python section:')\n",
    "        for index,article in enumerate(python_articles,1):\n",
    "            print(F'{index},{article}')\n",
    "    else:\n",
    "        print('No article found,')"
   ]
  },
  {
   "cell_type": "code",
   "execution_count": 14,
   "id": "f324eb07-e199-4b5d-931e-6ba1a853f215",
   "metadata": {},
   "outputs": [
    {
     "name": "stdout",
     "output_type": "stream",
     "text": [
      "Word Frequency on the Python.org website:\n",
      "python: 58\n",
      "the: 24\n",
      "and: 23\n",
      "a: 21\n",
      "3: 16\n",
      "2025: 16\n",
      "to: 15\n",
      "for: 15\n",
      "in: 14\n",
      "with: 13\n",
      "of: 13\n",
      "is: 12\n",
      "news: 11\n",
      "events: 11\n",
      "more: 11\n",
      "08: 11\n",
      "psf: 9\n",
      "community: 9\n",
      "s: 9\n",
      "software: 9\n",
      "docs: 7\n",
      "other: 7\n",
      "data: 7\n",
      "our: 7\n",
      "guide: 6\n",
      "lists: 6\n",
      "1: 6\n",
      "print: 6\n",
      "2: 6\n",
      "product: 6\n",
      "about: 5\n",
      "code: 5\n",
      "stories: 5\n",
      "development: 5\n",
      "user: 5\n",
      "functions: 5\n",
      "list: 5\n",
      "are: 5\n",
      "that: 5\n",
      "operators: 5\n",
      "learn: 5\n",
      "your: 4\n",
      "be: 4\n",
      "go: 4\n",
      "all: 4\n",
      "visual: 4\n",
      "developer: 4\n",
      "pycon: 4\n",
      "group: 4\n",
      "archive: 4\n",
      "an: 4\n",
      "n: 4\n",
      "b: 4\n",
      "0: 4\n",
      "5: 4\n",
      "13: 4\n",
      "programming: 4\n",
      "can: 4\n",
      "simple: 4\n",
      "you: 4\n",
      "name: 4\n",
      "foundation: 4\n",
      "science: 4\n",
      "einblick: 4\n",
      "canvas: 4\n",
      "we: 4\n",
      "org: 3\n",
      "while: 3\n",
      "this: 3\n",
      "on: 3\n",
      "jobs: 3\n",
      "irc: 3\n",
      "started: 3\n",
      "help: 3\n",
      "source: 3\n",
      "documentation: 3\n",
      "beginner: 3\n",
      "diversity: 3\n",
      "report: 3\n",
      "get: 3\n",
      "shared: 3\n",
      "success: 3\n",
      "scientific: 3\n",
      "submit: 3\n",
      "8: 3\n",
      "core: 3\n",
      "fruits: 3\n",
      "banana: 3\n",
      "apple: 3\n",
      "lime: 3\n",
      "as: 3\n",
      "work: 3\n",
      "flow: 3\n",
      "easy: 3\n",
      "language: 3\n",
      "re: 3\n",
      "use: 3\n",
      "available: 3\n",
      "14: 3\n",
      "notice: 2\n"
     ]
    }
   ],
   "source": [
    "import requests\n",
    "from bs4 import BeautifulSoup\n",
    "from collections import Counter\n",
    "import re\n",
    "\n",
    "def get_webpage_text(url):\n",
    "    response = requests.get(url)\n",
    "\n",
    "    if response.status_code == 200:\n",
    "        soup = BeautifulSoup(response.text,\"html.parser\")\n",
    "        #Extract text from all elements on the webpage\n",
    "        text = ' '.join(soup.stripped_strings)\n",
    "        return text\n",
    "    else:\n",
    "        print(f\"failed to retrieve data. Status_code: {response.status_code}\")\n",
    "        return \"\"\n",
    "\n",
    "def calculate_word_frequency(text):\n",
    "    words = re.findall(r'\\w+', text.lower())\n",
    "    word_count = Counter(words)\n",
    "    return word_count\n",
    "\n",
    "if __name__ == \"__main__\":\n",
    "    url = 'https://www.python.org/'\n",
    "    webpage_text = get_webpage_text(url)\n",
    "\n",
    "    if webpage_text:\n",
    "        word_frequency = calculate_word_frequency(webpage_text)\n",
    "        print('Word Frequency on the Python.org website:')\n",
    "        for word, frequency in word_frequency.most_common(100):\n",
    "            print(f'{word}: {frequency}')\n",
    "    else:\n",
    "        print('Failed to fetch webpage text.')\n"
   ]
  },
  {
   "cell_type": "code",
   "execution_count": null,
   "id": "9bf8c8db-3d1f-44d9-ba00-2a98f7106e43",
   "metadata": {},
   "outputs": [],
   "source": []
  },
  {
   "cell_type": "code",
   "execution_count": null,
   "id": "9c5df713-2066-4131-a9a0-c4780dcd1532",
   "metadata": {},
   "outputs": [],
   "source": []
  },
  {
   "cell_type": "code",
   "execution_count": null,
   "id": "db77f5ae-621a-4457-a410-94e27bf8f29f",
   "metadata": {},
   "outputs": [],
   "source": []
  },
  {
   "cell_type": "code",
   "execution_count": null,
   "id": "0c0729a8-df37-4f30-9cf7-7041b0ba6199",
   "metadata": {},
   "outputs": [],
   "source": []
  },
  {
   "cell_type": "code",
   "execution_count": null,
   "id": "2ddcd965-8f59-4463-a68f-366d12d198a4",
   "metadata": {},
   "outputs": [],
   "source": []
  },
  {
   "cell_type": "code",
   "execution_count": null,
   "id": "f8be3dc8-3f76-45ee-9c90-b638532056f5",
   "metadata": {},
   "outputs": [],
   "source": []
  },
  {
   "cell_type": "code",
   "execution_count": null,
   "id": "2385774f-bbf6-438f-8aae-2bb563819eb9",
   "metadata": {},
   "outputs": [],
   "source": []
  },
  {
   "cell_type": "code",
   "execution_count": null,
   "id": "8d29067c-0255-4286-9b85-51d8ca62cf5f",
   "metadata": {},
   "outputs": [],
   "source": []
  },
  {
   "cell_type": "code",
   "execution_count": null,
   "id": "f1230eea-418e-40d9-8109-f75a99d3d1f6",
   "metadata": {},
   "outputs": [],
   "source": []
  },
  {
   "cell_type": "code",
   "execution_count": null,
   "id": "6c50628a-2c27-471f-a806-3cc4584f1f3c",
   "metadata": {},
   "outputs": [],
   "source": []
  },
  {
   "cell_type": "code",
   "execution_count": null,
   "id": "144e4e58-f25e-4c42-90fb-fe7d8df3e2ac",
   "metadata": {},
   "outputs": [],
   "source": []
  },
  {
   "cell_type": "code",
   "execution_count": null,
   "id": "d0d8fe77-a85e-49d9-89d7-5de670f6bc34",
   "metadata": {},
   "outputs": [],
   "source": []
  },
  {
   "cell_type": "code",
   "execution_count": null,
   "id": "5b903bb2-06b0-4b8e-9931-1eadab630b1c",
   "metadata": {},
   "outputs": [],
   "source": []
  },
  {
   "cell_type": "code",
   "execution_count": null,
   "id": "9988ff7d-77ce-4a2e-93e8-bdbadd20db7b",
   "metadata": {},
   "outputs": [],
   "source": []
  },
  {
   "cell_type": "code",
   "execution_count": null,
   "id": "7380769f-b850-44f7-b665-e172fff59bec",
   "metadata": {},
   "outputs": [],
   "source": []
  }
 ],
 "metadata": {
  "kernelspec": {
   "display_name": "Python 3 (ipykernel)",
   "language": "python",
   "name": "python3"
  },
  "language_info": {
   "codemirror_mode": {
    "name": "ipython",
    "version": 3
   },
   "file_extension": ".py",
   "mimetype": "text/x-python",
   "name": "python",
   "nbconvert_exporter": "python",
   "pygments_lexer": "ipython3",
   "version": "3.13.5"
  }
 },
 "nbformat": 4,
 "nbformat_minor": 5
}
